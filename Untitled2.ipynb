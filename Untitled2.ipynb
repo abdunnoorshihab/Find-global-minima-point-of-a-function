{
  "nbformat": 4,
  "nbformat_minor": 0,
  "metadata": {
    "colab": {
      "provenance": []
    },
    "kernelspec": {
      "name": "python3",
      "display_name": "Python 3"
    },
    "language_info": {
      "name": "python"
    }
  },
  "cells": [
    {
      "cell_type": "code",
      "execution_count": null,
      "metadata": {
        "id": "pogvI2ChaVib"
      },
      "outputs": [],
      "source": [
        "import math\n",
        "import numpy as np\n",
        "import matplotlib.pyplot as plt\n",
        "\n",
        "def f(x):\n",
        "    return math.exp(x) + 4 + x**2/3 + 8*math.sin(x)\n",
        "\n",
        "def f_prime(x):\n",
        "    return math.exp(x) + (2/3)*x - 13 + 8*math.cos(x)\n",
        "\n",
        "def f_double_prime(x):\n",
        "    return math.exp(x) + (2/3) - 8*math.sin(x)\n",
        "\n",
        "def newton_raphson(x0, epsilon, max_iterations):\n",
        "    x_old = x0\n",
        "    for i in range(max_iterations):\n",
        "        f_prime_val = f_prime(x_old)\n",
        "        f_double_prime_val = f_double_prime(x_old)\n",
        "        x_new = x_old - f_prime_val/f_double_prime_val\n",
        "        error = abs((x_new - x_old)/x_new)\n",
        "        if error < epsilon:\n",
        "            return x_new\n",
        "        x_old = x_new\n",
        "    return x_new\n",
        "\n",
        "x = np.linspace(-10, 10, 100)\n",
        "y = [f(i) for i in x]\n",
        "fig, ax = plt.subplots()\n",
        "ax.plot(x, y, label='f(x)')\n",
        "\n",
        "initial_values = [-8, -5, 0, 3, 8]\n",
        "minima_points = []\n",
        "\n",
        "for x0 in initial_values:\n",
        "    minima_point = newton_raphson(x0, 0.001, 100)\n",
        "    minima_points.append((minima_point, f(minima_point)))\n",
        "\n",
        "global_minima_point = min(minima_points, key=lambda x: x[1])\n",
        "\n",
        "print(\"Value of f(x) at the global minima point:\", f(global_minima_point[0]))\n",
        "\n",
        "for point in minima_points:\n",
        "    color = 'blue' if point != global_minima_point else 'red'\n",
        "    ax.plot(point[0], point[1], 'o', color=color)\n",
        "\n",
        "plt.xlabel(\"x\")\n",
        "plt.ylabel(\"f(x)\")\n",
        "plt.legend()\n",
        "plt.show()"
      ]
    }
  ]
}